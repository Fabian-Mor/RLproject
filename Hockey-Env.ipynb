{
 "cells": [
  {
   "cell_type": "code",
   "execution_count": 1,
   "metadata": {
    "ExecuteTime": {
     "end_time": "2024-12-26T14:45:05.098942Z",
     "start_time": "2024-12-26T14:45:04.665956Z"
    }
   },
   "outputs": [],
   "source": [
    "import numpy as np\n",
    "import hockey.hockey_env as h_env\n",
    "import gymnasium as gym\n",
    "from importlib import reload\n",
    "import time"
   ]
  },
  {
   "cell_type": "code",
   "execution_count": 2,
   "metadata": {
    "ExecuteTime": {
     "end_time": "2024-12-26T14:45:06.000935Z",
     "start_time": "2024-12-26T14:45:05.987836Z"
    }
   },
   "outputs": [],
   "source": [
    "np.set_printoptions(suppress=True)"
   ]
  },
  {
   "cell_type": "code",
   "execution_count": 3,
   "metadata": {
    "ExecuteTime": {
     "end_time": "2024-12-26T14:45:06.575611Z",
     "start_time": "2024-12-26T14:45:06.548487Z"
    }
   },
   "outputs": [
    {
     "name": "stderr",
     "output_type": "stream",
     "text": [
      "C:\\Users\\fabia\\PycharmProjects\\ReinforcementProject\\.venv\\lib\\site-packages\\gymnasium\\envs\\registration.py:642: UserWarning: \u001B[33mWARN: Overriding environment Hockey-v0 already in registry.\u001B[0m\n",
      "  logger.warn(f\"Overriding environment {new_spec.id} already in registry.\")\n",
      "C:\\Users\\fabia\\PycharmProjects\\ReinforcementProject\\.venv\\lib\\site-packages\\gymnasium\\envs\\registration.py:642: UserWarning: \u001B[33mWARN: Overriding environment Hockey-One-v0 already in registry.\u001B[0m\n",
      "  logger.warn(f\"Overriding environment {new_spec.id} already in registry.\")\n"
     ]
    },
    {
     "data": {
      "text/plain": "<module 'hockey.hockey_env' from 'C:\\\\Users\\\\fabia\\\\PycharmProjects\\\\ReinforcementProject\\\\.venv\\\\lib\\\\site-packages\\\\hockey\\\\hockey_env.py'>"
     },
     "execution_count": 3,
     "metadata": {},
     "output_type": "execute_result"
    }
   ],
   "source": [
    "reload(h_env)"
   ]
  },
  {
   "cell_type": "markdown",
   "metadata": {
    "ExecuteTime": {
     "end_time": "2018-12-20T21:03:35.086427Z",
     "start_time": "2018-12-20T21:03:35.082123Z"
    }
   },
   "source": [
    "# Normal Game Play"
   ]
  },
  {
   "cell_type": "code",
   "execution_count": 12,
   "metadata": {
    "ExecuteTime": {
     "end_time": "2024-12-26T14:45:42.304735Z",
     "start_time": "2024-12-26T14:45:42.293851Z"
    }
   },
   "outputs": [],
   "source": [
    "env = h_env.HockeyEnv()"
   ]
  },
  {
   "cell_type": "markdown",
   "metadata": {},
   "source": [
    "have a look at the initialization condition: alternating who starts and are random in puck position"
   ]
  },
  {
   "cell_type": "code",
   "execution_count": 13,
   "metadata": {
    "ExecuteTime": {
     "end_time": "2024-12-26T14:45:44.742650Z",
     "start_time": "2024-12-26T14:45:44.631340Z"
    }
   },
   "outputs": [],
   "source": [
    "obs, info = env.reset()\n",
    "obs_agent2 = env.obs_agent_two()\n",
    "_ = env.render()"
   ]
  },
  {
   "cell_type": "markdown",
   "metadata": {},
   "source": [
    "one episode with random agents"
   ]
  },
  {
   "cell_type": "code",
   "execution_count": 14,
   "metadata": {
    "ExecuteTime": {
     "end_time": "2024-12-26T14:46:07.262786Z",
     "start_time": "2024-12-26T14:46:05.019515Z"
    }
   },
   "outputs": [],
   "source": [
    "obs, info = env.reset()\n",
    "obs_agent2 = env.obs_agent_two()\n",
    "\n",
    "for _ in range(600):\n",
    "    env.render(mode=\"human\")\n",
    "    a1 = np.random.uniform(-1,1,4)\n",
    "    a2 = np.random.uniform(-1,1,4)    \n",
    "    obs, r, d, t, info = env.step(np.hstack([a1,a2]))    \n",
    "    obs_agent2 = env.obs_agent_two()\n",
    "    if d or t: break"
   ]
  },
  {
   "cell_type": "markdown",
   "metadata": {},
   "source": [
    "Without rendering, it runs much faster"
   ]
  },
  {
   "cell_type": "markdown",
   "metadata": {
    "ExecuteTime": {
     "end_time": "2019-01-11T07:57:48.631793Z",
     "start_time": "2019-01-11T07:57:48.627528Z"
    }
   },
   "source": [
    "\"info\" dict contains useful proxy rewards and winning information"
   ]
  },
  {
   "cell_type": "code",
   "execution_count": 15,
   "metadata": {
    "ExecuteTime": {
     "end_time": "2024-12-26T14:46:17.195590Z",
     "start_time": "2024-12-26T14:46:17.189078Z"
    }
   },
   "outputs": [
    {
     "data": {
      "text/plain": "({'winner': 1,\n  'reward_closeness_to_puck': 0.0,\n  'reward_touch_puck': 0.0,\n  'reward_puck_direction': 0.0021730816650390628},\n {'winner': -1,\n  'reward_closeness_to_puck': -0.18214970111420925,\n  'reward_touch_puck': 0.0,\n  'reward_puck_direction': -0.0021730816650390628})"
     },
     "execution_count": 15,
     "metadata": {},
     "output_type": "execute_result"
    }
   ],
   "source": [
    "info, env.get_info_agent_two()"
   ]
  },
  {
   "cell_type": "markdown",
   "metadata": {
    "ExecuteTime": {
     "end_time": "2019-01-11T07:59:24.867441Z",
     "start_time": "2019-01-11T07:59:24.862324Z"
    }
   },
   "source": [
    "Winner == 0: draw\n",
    "\n",
    "Winner == 1: you (left player)\n",
    "\n",
    "Winner == -1: opponent wins (right player)"
   ]
  },
  {
   "cell_type": "code",
   "execution_count": 16,
   "metadata": {
    "ExecuteTime": {
     "end_time": "2024-12-26T14:46:19.180351Z",
     "start_time": "2024-12-26T14:46:19.134688Z"
    }
   },
   "outputs": [],
   "source": [
    "env.close()"
   ]
  },
  {
   "cell_type": "markdown",
   "metadata": {
    "ExecuteTime": {
     "end_time": "2018-12-20T20:37:41.013424Z",
     "start_time": "2018-12-20T20:37:41.009298Z"
    }
   },
   "source": [
    "# Train Shooting"
   ]
  },
  {
   "cell_type": "code",
   "execution_count": 17,
   "metadata": {
    "ExecuteTime": {
     "end_time": "2024-12-26T14:46:21.370844Z",
     "start_time": "2024-12-26T14:46:21.357354Z"
    }
   },
   "outputs": [
    {
     "ename": "AttributeError",
     "evalue": "type object 'HockeyEnv' has no attribute 'TRAIN_SHOOTING'",
     "output_type": "error",
     "traceback": [
      "\u001B[1;31m---------------------------------------------------------------------------\u001B[0m",
      "\u001B[1;31mAttributeError\u001B[0m                            Traceback (most recent call last)",
      "Cell \u001B[1;32mIn[17], line 1\u001B[0m\n\u001B[1;32m----> 1\u001B[0m env \u001B[38;5;241m=\u001B[39m h_env\u001B[38;5;241m.\u001B[39mHockeyEnv(mode\u001B[38;5;241m=\u001B[39m\u001B[43mh_env\u001B[49m\u001B[38;5;241;43m.\u001B[39;49m\u001B[43mHockeyEnv\u001B[49m\u001B[38;5;241;43m.\u001B[39;49m\u001B[43mTRAIN_SHOOTING\u001B[49m)\n",
      "\u001B[1;31mAttributeError\u001B[0m: type object 'HockeyEnv' has no attribute 'TRAIN_SHOOTING'"
     ]
    }
   ],
   "source": [
    "env = h_env.HockeyEnv(mode=h_env.HockeyEnv.TRAIN_SHOOTING)"
   ]
  },
  {
   "cell_type": "code",
   "execution_count": 18,
   "metadata": {
    "ExecuteTime": {
     "end_time": "2024-12-26T14:46:24.436168Z",
     "start_time": "2024-12-26T14:46:24.404071Z"
    }
   },
   "outputs": [
    {
     "ename": "error",
     "evalue": "display Surface quit",
     "output_type": "error",
     "traceback": [
      "\u001B[1;31m---------------------------------------------------------------------------\u001B[0m",
      "\u001B[1;31merror\u001B[0m                                     Traceback (most recent call last)",
      "Cell \u001B[1;32mIn[18], line 2\u001B[0m\n\u001B[0;32m      1\u001B[0m o, info \u001B[38;5;241m=\u001B[39m env\u001B[38;5;241m.\u001B[39mreset()\n\u001B[1;32m----> 2\u001B[0m _ \u001B[38;5;241m=\u001B[39m \u001B[43menv\u001B[49m\u001B[38;5;241;43m.\u001B[39;49m\u001B[43mrender\u001B[49m\u001B[43m(\u001B[49m\u001B[43m)\u001B[49m\n\u001B[0;32m      4\u001B[0m \u001B[38;5;28;01mfor\u001B[39;00m _ \u001B[38;5;129;01min\u001B[39;00m \u001B[38;5;28mrange\u001B[39m(\u001B[38;5;241m50\u001B[39m):\n\u001B[0;32m      5\u001B[0m     env\u001B[38;5;241m.\u001B[39mrender()\n",
      "File \u001B[1;32m~\\PycharmProjects\\ReinforcementProject\\.venv\\lib\\site-packages\\hockey\\hockey_env.py:734\u001B[0m, in \u001B[0;36mHockeyEnv.render\u001B[1;34m(self, mode)\u001B[0m\n\u001B[0;32m    732\u001B[0m \u001B[38;5;28;01mif\u001B[39;00m mode \u001B[38;5;241m==\u001B[39m \u001B[38;5;124m\"\u001B[39m\u001B[38;5;124mhuman\u001B[39m\u001B[38;5;124m\"\u001B[39m:\n\u001B[0;32m    733\u001B[0m   \u001B[38;5;28;01massert\u001B[39;00m \u001B[38;5;28mself\u001B[39m\u001B[38;5;241m.\u001B[39mscreen \u001B[38;5;129;01mis\u001B[39;00m \u001B[38;5;129;01mnot\u001B[39;00m \u001B[38;5;28;01mNone\u001B[39;00m\n\u001B[1;32m--> 734\u001B[0m   \u001B[38;5;28;43mself\u001B[39;49m\u001B[38;5;241;43m.\u001B[39;49m\u001B[43mscreen\u001B[49m\u001B[38;5;241;43m.\u001B[39;49m\u001B[43mblit\u001B[49m\u001B[43m(\u001B[49m\u001B[38;5;28;43mself\u001B[39;49m\u001B[38;5;241;43m.\u001B[39;49m\u001B[43msurf\u001B[49m\u001B[43m,\u001B[49m\u001B[43m \u001B[49m\u001B[43m(\u001B[49m\u001B[38;5;241;43m0\u001B[39;49m\u001B[43m,\u001B[49m\u001B[43m \u001B[49m\u001B[38;5;241;43m0\u001B[39;49m\u001B[43m)\u001B[49m\u001B[43m)\u001B[49m\n\u001B[0;32m    735\u001B[0m   pygame\u001B[38;5;241m.\u001B[39mevent\u001B[38;5;241m.\u001B[39mpump()\n\u001B[0;32m    736\u001B[0m   \u001B[38;5;28mself\u001B[39m\u001B[38;5;241m.\u001B[39mclock\u001B[38;5;241m.\u001B[39mtick(\u001B[38;5;28mself\u001B[39m\u001B[38;5;241m.\u001B[39mmetadata[\u001B[38;5;124m\"\u001B[39m\u001B[38;5;124mrender_fps\u001B[39m\u001B[38;5;124m\"\u001B[39m])\n",
      "\u001B[1;31merror\u001B[0m: display Surface quit"
     ]
    }
   ],
   "source": [
    "o, info = env.reset()\n",
    "_ = env.render()\n",
    "\n",
    "for _ in range(50):\n",
    "    env.render()\n",
    "    a1 = [1,0,0,1] # np.random.uniform(-1,1,4)\n",
    "    a2 = [0,0.,0,0] \n",
    "    obs, r, d, t , info = env.step(np.hstack([a1,a2]))\n",
    "    obs_agent2 = env.obs_agent_two()\n",
    "    if d or t: break"
   ]
  },
  {
   "cell_type": "code",
   "execution_count": 19,
   "metadata": {
    "ExecuteTime": {
     "end_time": "2024-12-26T14:46:26.708149Z",
     "start_time": "2024-12-26T14:46:26.690729Z"
    }
   },
   "outputs": [],
   "source": [
    "env.close()"
   ]
  },
  {
   "cell_type": "markdown",
   "metadata": {
    "ExecuteTime": {
     "end_time": "2018-12-20T20:37:41.013424Z",
     "start_time": "2018-12-20T20:37:41.009298Z"
    }
   },
   "source": [
    "# Train DEFENDING"
   ]
  },
  {
   "cell_type": "code",
   "execution_count": 20,
   "metadata": {
    "ExecuteTime": {
     "end_time": "2024-12-26T14:46:28.130105Z",
     "start_time": "2024-12-26T14:46:28.101339Z"
    }
   },
   "outputs": [
    {
     "ename": "AttributeError",
     "evalue": "type object 'HockeyEnv' has no attribute 'TRAIN_DEFENSE'",
     "output_type": "error",
     "traceback": [
      "\u001B[1;31m---------------------------------------------------------------------------\u001B[0m",
      "\u001B[1;31mAttributeError\u001B[0m                            Traceback (most recent call last)",
      "Cell \u001B[1;32mIn[20], line 1\u001B[0m\n\u001B[1;32m----> 1\u001B[0m env \u001B[38;5;241m=\u001B[39m h_env\u001B[38;5;241m.\u001B[39mHockeyEnv(mode\u001B[38;5;241m=\u001B[39m\u001B[43mh_env\u001B[49m\u001B[38;5;241;43m.\u001B[39;49m\u001B[43mHockeyEnv\u001B[49m\u001B[38;5;241;43m.\u001B[39;49m\u001B[43mTRAIN_DEFENSE\u001B[49m)\n",
      "\u001B[1;31mAttributeError\u001B[0m: type object 'HockeyEnv' has no attribute 'TRAIN_DEFENSE'"
     ]
    }
   ],
   "source": [
    "env = h_env.HockeyEnv(mode=h_env.HockeyEnv.TRAIN_DEFENSE)"
   ]
  },
  {
   "cell_type": "code",
   "execution_count": 21,
   "metadata": {
    "ExecuteTime": {
     "end_time": "2024-12-26T14:46:29.325387Z",
     "start_time": "2024-12-26T14:46:29.293884Z"
    }
   },
   "outputs": [
    {
     "ename": "error",
     "evalue": "display Surface quit",
     "output_type": "error",
     "traceback": [
      "\u001B[1;31m---------------------------------------------------------------------------\u001B[0m",
      "\u001B[1;31merror\u001B[0m                                     Traceback (most recent call last)",
      "Cell \u001B[1;32mIn[21], line 2\u001B[0m\n\u001B[0;32m      1\u001B[0m o, info \u001B[38;5;241m=\u001B[39m env\u001B[38;5;241m.\u001B[39mreset()\n\u001B[1;32m----> 2\u001B[0m _ \u001B[38;5;241m=\u001B[39m \u001B[43menv\u001B[49m\u001B[38;5;241;43m.\u001B[39;49m\u001B[43mrender\u001B[49m\u001B[43m(\u001B[49m\u001B[43m)\u001B[49m\n\u001B[0;32m      4\u001B[0m \u001B[38;5;28;01mfor\u001B[39;00m _ \u001B[38;5;129;01min\u001B[39;00m \u001B[38;5;28mrange\u001B[39m(\u001B[38;5;241m60\u001B[39m):\n\u001B[0;32m      5\u001B[0m     env\u001B[38;5;241m.\u001B[39mrender()\n",
      "File \u001B[1;32m~\\PycharmProjects\\ReinforcementProject\\.venv\\lib\\site-packages\\hockey\\hockey_env.py:734\u001B[0m, in \u001B[0;36mHockeyEnv.render\u001B[1;34m(self, mode)\u001B[0m\n\u001B[0;32m    732\u001B[0m \u001B[38;5;28;01mif\u001B[39;00m mode \u001B[38;5;241m==\u001B[39m \u001B[38;5;124m\"\u001B[39m\u001B[38;5;124mhuman\u001B[39m\u001B[38;5;124m\"\u001B[39m:\n\u001B[0;32m    733\u001B[0m   \u001B[38;5;28;01massert\u001B[39;00m \u001B[38;5;28mself\u001B[39m\u001B[38;5;241m.\u001B[39mscreen \u001B[38;5;129;01mis\u001B[39;00m \u001B[38;5;129;01mnot\u001B[39;00m \u001B[38;5;28;01mNone\u001B[39;00m\n\u001B[1;32m--> 734\u001B[0m   \u001B[38;5;28;43mself\u001B[39;49m\u001B[38;5;241;43m.\u001B[39;49m\u001B[43mscreen\u001B[49m\u001B[38;5;241;43m.\u001B[39;49m\u001B[43mblit\u001B[49m\u001B[43m(\u001B[49m\u001B[38;5;28;43mself\u001B[39;49m\u001B[38;5;241;43m.\u001B[39;49m\u001B[43msurf\u001B[49m\u001B[43m,\u001B[49m\u001B[43m \u001B[49m\u001B[43m(\u001B[49m\u001B[38;5;241;43m0\u001B[39;49m\u001B[43m,\u001B[49m\u001B[43m \u001B[49m\u001B[38;5;241;43m0\u001B[39;49m\u001B[43m)\u001B[49m\u001B[43m)\u001B[49m\n\u001B[0;32m    735\u001B[0m   pygame\u001B[38;5;241m.\u001B[39mevent\u001B[38;5;241m.\u001B[39mpump()\n\u001B[0;32m    736\u001B[0m   \u001B[38;5;28mself\u001B[39m\u001B[38;5;241m.\u001B[39mclock\u001B[38;5;241m.\u001B[39mtick(\u001B[38;5;28mself\u001B[39m\u001B[38;5;241m.\u001B[39mmetadata[\u001B[38;5;124m\"\u001B[39m\u001B[38;5;124mrender_fps\u001B[39m\u001B[38;5;124m\"\u001B[39m])\n",
      "\u001B[1;31merror\u001B[0m: display Surface quit"
     ]
    }
   ],
   "source": [
    "o, info = env.reset()\n",
    "_ = env.render()\n",
    "\n",
    "for _ in range(60):\n",
    "    env.render()\n",
    "    a1 = [0.1,0,0,1] # np.random.uniform(-1,1,3)\n",
    "    a2 = [0,0.,0,0] \n",
    "    obs, r, d, t, info = env.step(np.hstack([a1,a2]))\n",
    "    print(r)\n",
    "    obs_agent2 = env.obs_agent_two()\n",
    "    if d or t: break"
   ]
  },
  {
   "cell_type": "code",
   "execution_count": 22,
   "metadata": {
    "ExecuteTime": {
     "end_time": "2024-12-26T14:46:30.108188Z",
     "start_time": "2024-12-26T14:46:30.091052Z"
    }
   },
   "outputs": [],
   "source": [
    "env.close()"
   ]
  },
  {
   "cell_type": "markdown",
   "metadata": {
    "ExecuteTime": {
     "end_time": "2018-12-20T20:37:41.013424Z",
     "start_time": "2018-12-20T20:37:41.009298Z"
    }
   },
   "source": [
    "# Using discrete actions"
   ]
  },
  {
   "cell_type": "code",
   "execution_count": 23,
   "metadata": {
    "ExecuteTime": {
     "end_time": "2024-12-26T14:46:32.892655Z",
     "start_time": "2024-12-26T14:46:32.879702Z"
    }
   },
   "outputs": [],
   "source": [
    "import random"
   ]
  },
  {
   "cell_type": "code",
   "execution_count": 24,
   "metadata": {
    "ExecuteTime": {
     "end_time": "2024-12-26T14:46:33.523268Z",
     "start_time": "2024-12-26T14:46:33.507800Z"
    }
   },
   "outputs": [
    {
     "ename": "AttributeError",
     "evalue": "type object 'HockeyEnv' has no attribute 'TRAIN_SHOOTING'",
     "output_type": "error",
     "traceback": [
      "\u001B[1;31m---------------------------------------------------------------------------\u001B[0m",
      "\u001B[1;31mAttributeError\u001B[0m                            Traceback (most recent call last)",
      "Cell \u001B[1;32mIn[24], line 1\u001B[0m\n\u001B[1;32m----> 1\u001B[0m env \u001B[38;5;241m=\u001B[39m h_env\u001B[38;5;241m.\u001B[39mHockeyEnv(mode\u001B[38;5;241m=\u001B[39m\u001B[43mh_env\u001B[49m\u001B[38;5;241;43m.\u001B[39;49m\u001B[43mHockeyEnv\u001B[49m\u001B[38;5;241;43m.\u001B[39;49m\u001B[43mTRAIN_SHOOTING\u001B[49m)\n",
      "\u001B[1;31mAttributeError\u001B[0m: type object 'HockeyEnv' has no attribute 'TRAIN_SHOOTING'"
     ]
    }
   ],
   "source": [
    "env = h_env.HockeyEnv(mode=h_env.HockeyEnv.TRAIN_SHOOTING)"
   ]
  },
  {
   "cell_type": "code",
   "execution_count": 25,
   "metadata": {
    "ExecuteTime": {
     "end_time": "2024-12-26T14:46:39.485492Z",
     "start_time": "2024-12-26T14:46:39.455515Z"
    }
   },
   "outputs": [
    {
     "ename": "error",
     "evalue": "display Surface quit",
     "output_type": "error",
     "traceback": [
      "\u001B[1;31m---------------------------------------------------------------------------\u001B[0m",
      "\u001B[1;31merror\u001B[0m                                     Traceback (most recent call last)",
      "Cell \u001B[1;32mIn[25], line 3\u001B[0m\n\u001B[0;32m      1\u001B[0m env\u001B[38;5;241m.\u001B[39mreset()\n\u001B[0;32m      2\u001B[0m \u001B[38;5;28;01mfor\u001B[39;00m _ \u001B[38;5;129;01min\u001B[39;00m \u001B[38;5;28mrange\u001B[39m(\u001B[38;5;241m251\u001B[39m):\n\u001B[1;32m----> 3\u001B[0m     \u001B[43menv\u001B[49m\u001B[38;5;241;43m.\u001B[39;49m\u001B[43mrender\u001B[49m\u001B[43m(\u001B[49m\u001B[43m)\u001B[49m\n\u001B[0;32m      4\u001B[0m     a1_discrete \u001B[38;5;241m=\u001B[39m random\u001B[38;5;241m.\u001B[39mrandint(\u001B[38;5;241m0\u001B[39m,\u001B[38;5;241m7\u001B[39m)\n\u001B[0;32m      5\u001B[0m     a1 \u001B[38;5;241m=\u001B[39m env\u001B[38;5;241m.\u001B[39mdiscrete_to_continous_action(a1_discrete)\n",
      "File \u001B[1;32m~\\PycharmProjects\\ReinforcementProject\\.venv\\lib\\site-packages\\hockey\\hockey_env.py:734\u001B[0m, in \u001B[0;36mHockeyEnv.render\u001B[1;34m(self, mode)\u001B[0m\n\u001B[0;32m    732\u001B[0m \u001B[38;5;28;01mif\u001B[39;00m mode \u001B[38;5;241m==\u001B[39m \u001B[38;5;124m\"\u001B[39m\u001B[38;5;124mhuman\u001B[39m\u001B[38;5;124m\"\u001B[39m:\n\u001B[0;32m    733\u001B[0m   \u001B[38;5;28;01massert\u001B[39;00m \u001B[38;5;28mself\u001B[39m\u001B[38;5;241m.\u001B[39mscreen \u001B[38;5;129;01mis\u001B[39;00m \u001B[38;5;129;01mnot\u001B[39;00m \u001B[38;5;28;01mNone\u001B[39;00m\n\u001B[1;32m--> 734\u001B[0m   \u001B[38;5;28;43mself\u001B[39;49m\u001B[38;5;241;43m.\u001B[39;49m\u001B[43mscreen\u001B[49m\u001B[38;5;241;43m.\u001B[39;49m\u001B[43mblit\u001B[49m\u001B[43m(\u001B[49m\u001B[38;5;28;43mself\u001B[39;49m\u001B[38;5;241;43m.\u001B[39;49m\u001B[43msurf\u001B[49m\u001B[43m,\u001B[49m\u001B[43m \u001B[49m\u001B[43m(\u001B[49m\u001B[38;5;241;43m0\u001B[39;49m\u001B[43m,\u001B[49m\u001B[43m \u001B[49m\u001B[38;5;241;43m0\u001B[39;49m\u001B[43m)\u001B[49m\u001B[43m)\u001B[49m\n\u001B[0;32m    735\u001B[0m   pygame\u001B[38;5;241m.\u001B[39mevent\u001B[38;5;241m.\u001B[39mpump()\n\u001B[0;32m    736\u001B[0m   \u001B[38;5;28mself\u001B[39m\u001B[38;5;241m.\u001B[39mclock\u001B[38;5;241m.\u001B[39mtick(\u001B[38;5;28mself\u001B[39m\u001B[38;5;241m.\u001B[39mmetadata[\u001B[38;5;124m\"\u001B[39m\u001B[38;5;124mrender_fps\u001B[39m\u001B[38;5;124m\"\u001B[39m])\n",
      "\u001B[1;31merror\u001B[0m: display Surface quit"
     ]
    }
   ],
   "source": [
    "env.reset()\n",
    "for _ in range(251):\n",
    "    env.render()\n",
    "    a1_discrete = random.randint(0,7)\n",
    "    a1 = env.discrete_to_continous_action(a1_discrete)\n",
    "    a2 = [0,0.,0,0 ] \n",
    "    obs, r, d, t, info = env.step(np.hstack([a1,a2]))    \n",
    "    obs_agent2 = env.obs_agent_two()\n",
    "    if d or t: break"
   ]
  },
  {
   "cell_type": "code",
   "execution_count": 26,
   "metadata": {
    "ExecuteTime": {
     "end_time": "2024-12-26T14:46:40.504701Z",
     "start_time": "2024-12-26T14:46:40.495944Z"
    }
   },
   "outputs": [],
   "source": [
    "env.close()"
   ]
  },
  {
   "cell_type": "markdown",
   "metadata": {
    "ExecuteTime": {
     "end_time": "2018-12-20T20:37:41.013424Z",
     "start_time": "2018-12-20T20:37:41.009298Z"
    }
   },
   "source": [
    "# Hand-crafted Opponent"
   ]
  },
  {
   "cell_type": "code",
   "execution_count": 27,
   "metadata": {
    "ExecuteTime": {
     "end_time": "2024-12-26T14:46:42.157936Z",
     "start_time": "2024-12-26T14:46:42.145149Z"
    }
   },
   "outputs": [],
   "source": [
    "env = h_env.HockeyEnv()"
   ]
  },
  {
   "cell_type": "code",
   "execution_count": 28,
   "metadata": {
    "ExecuteTime": {
     "end_time": "2024-12-26T14:46:42.775005Z",
     "start_time": "2024-12-26T14:46:42.688241Z"
    }
   },
   "outputs": [],
   "source": [
    "o, info = env.reset()\n",
    "_ = env.render()\n",
    "player1 = h_env.BasicOpponent(weak=False)\n",
    "player2 = h_env.BasicOpponent()"
   ]
  },
  {
   "cell_type": "code",
   "execution_count": 29,
   "metadata": {
    "ExecuteTime": {
     "end_time": "2024-12-26T14:46:45.950305Z",
     "start_time": "2024-12-26T14:46:44.227532Z"
    }
   },
   "outputs": [],
   "source": [
    "obs_buffer = []\n",
    "reward_buffer=[]\n",
    "obs, info = env.reset()\n",
    "obs_agent2 = env.obs_agent_two()\n",
    "for _ in range(251):\n",
    "    env.render()\n",
    "    a1 = player1.act(obs)\n",
    "    a2 = player2.act(obs_agent2)\n",
    "    obs, r, d, t, info = env.step(np.hstack([a1,a2]))    \n",
    "    obs_buffer.append(obs)\n",
    "    reward_buffer.append(r)\n",
    "    obs_agent2 = env.obs_agent_two()\n",
    "    if d or t: break\n",
    "obs_buffer = np.asarray(obs_buffer)\n",
    "reward_buffer = np.asarray(reward_buffer)"
   ]
  },
  {
   "cell_type": "code",
   "execution_count": 30,
   "metadata": {
    "ExecuteTime": {
     "end_time": "2024-12-26T14:46:47.574363Z",
     "start_time": "2024-12-26T14:46:47.569320Z"
    }
   },
   "outputs": [
    {
     "data": {
      "text/plain": "array([-2.58020481,  0.27002854, -0.0522396 , -0.24769801,  0.03123003,\n       -0.45200746,  2.96352951, -0.02593786, -0.11288332,  0.25221679,\n        0.3600604 , -0.02004695, -0.00756916,  0.40979183,  3.87808488,\n        0.78326152,  2.53012048,  1.26506024])"
     },
     "execution_count": 30,
     "metadata": {},
     "output_type": "execute_result"
    }
   ],
   "source": [
    "np.mean(obs_buffer,axis=0)"
   ]
  },
  {
   "cell_type": "code",
   "execution_count": 31,
   "metadata": {
    "ExecuteTime": {
     "end_time": "2024-12-26T14:46:49.391329Z",
     "start_time": "2024-12-26T14:46:49.385916Z"
    }
   },
   "outputs": [
    {
     "data": {
      "text/plain": "array([ 0.66801076,  0.26685344,  0.61693859,  5.53351869,  2.34719457,\n        3.30403092,  0.46762354,  0.30666159,  0.13893543,  2.97722103,\n        1.68177719,  0.65236593,  1.83691637,  1.21274552, 15.45443869,\n       13.49440448,  4.70666625,  3.56043972])"
     },
     "execution_count": 31,
     "metadata": {},
     "output_type": "execute_result"
    }
   ],
   "source": [
    "np.std(obs_buffer,axis=0)"
   ]
  },
  {
   "cell_type": "markdown",
   "metadata": {},
   "source": [
    "If you want to use a fixed observation scaling, this might be a reasonable choice"
   ]
  },
  {
   "cell_type": "code",
   "execution_count": 32,
   "metadata": {
    "ExecuteTime": {
     "end_time": "2024-12-26T14:46:54.207019Z",
     "start_time": "2024-12-26T14:46:54.201178Z"
    }
   },
   "outputs": [],
   "source": [
    "scaling = [ 1.0,  1.0 , 0.5, 4.0, 4.0, 4.0,  \n",
    "            1.0,  1.0,  0.5, 4.0, 4.0, 4.0,  \n",
    "            2.0, 2.0, 10.0, 10.0, 4,0 ,4,0]"
   ]
  },
  {
   "cell_type": "code",
   "execution_count": 33,
   "metadata": {
    "ExecuteTime": {
     "end_time": "2024-12-26T14:46:54.864769Z",
     "start_time": "2024-12-26T14:46:54.847215Z"
    }
   },
   "outputs": [
    {
     "ename": "ModuleNotFoundError",
     "evalue": "No module named 'pylab'",
     "output_type": "error",
     "traceback": [
      "\u001B[1;31m---------------------------------------------------------------------------\u001B[0m",
      "\u001B[1;31mModuleNotFoundError\u001B[0m                       Traceback (most recent call last)",
      "Cell \u001B[1;32mIn[33], line 1\u001B[0m\n\u001B[1;32m----> 1\u001B[0m \u001B[38;5;28;01mimport\u001B[39;00m \u001B[38;5;21;01mpylab\u001B[39;00m \u001B[38;5;28;01mas\u001B[39;00m \u001B[38;5;21;01mplt\u001B[39;00m\n",
      "\u001B[1;31mModuleNotFoundError\u001B[0m: No module named 'pylab'"
     ]
    }
   ],
   "source": [
    "import 3pylab as plt"
   ]
  },
  {
   "cell_type": "code",
   "execution_count": null,
   "metadata": {
    "ExecuteTime": {
     "end_time": "2020-12-21T21:46:01.180182Z",
     "start_time": "2020-12-21T21:46:01.042905Z"
    }
   },
   "outputs": [],
   "source": [
    "plt.plot(obs_buffer[:,2])\n",
    "plt.plot(obs_buffer[:,8])"
   ]
  },
  {
   "cell_type": "code",
   "execution_count": null,
   "metadata": {
    "ExecuteTime": {
     "end_time": "2020-12-21T21:46:02.017740Z",
     "start_time": "2020-12-21T21:46:01.882805Z"
    }
   },
   "outputs": [],
   "source": [
    "plt.plot(obs_buffer[:,12])"
   ]
  },
  {
   "cell_type": "code",
   "execution_count": null,
   "metadata": {},
   "outputs": [],
   "source": [
    "plt.plot(reward_buffer[:])"
   ]
  },
  {
   "cell_type": "code",
   "execution_count": null,
   "metadata": {},
   "outputs": [],
   "source": [
    "np.sum(reward_buffer)"
   ]
  },
  {
   "cell_type": "code",
   "execution_count": null,
   "metadata": {
    "ExecuteTime": {
     "end_time": "2023-08-06T09:49:45.806206Z",
     "start_time": "2023-08-06T09:49:45.796608Z"
    }
   },
   "outputs": [],
   "source": [
    "info2 = env.get_info_agent_two()\n",
    "info, info2, env.get_reward(info), env.get_reward_agent_two(info2)"
   ]
  },
  {
   "cell_type": "code",
   "execution_count": null,
   "metadata": {
    "ExecuteTime": {
     "end_time": "2020-12-21T21:46:02.934754Z",
     "start_time": "2020-12-21T21:46:02.922824Z"
    }
   },
   "outputs": [],
   "source": [
    "env.close()"
   ]
  },
  {
   "cell_type": "markdown",
   "metadata": {},
   "source": [
    "# Human Opponent"
   ]
  },
  {
   "cell_type": "code",
   "execution_count": null,
   "metadata": {
    "ExecuteTime": {
     "end_time": "2020-12-21T21:46:11.226543Z",
     "start_time": "2020-12-21T21:46:11.220285Z"
    }
   },
   "outputs": [],
   "source": [
    "env = h_env.HockeyEnv()"
   ]
  },
  {
   "cell_type": "code",
   "execution_count": null,
   "metadata": {
    "ExecuteTime": {
     "end_time": "2020-12-21T21:40:55.480803Z",
     "start_time": "2020-12-21T21:40:55.424242Z"
    }
   },
   "outputs": [],
   "source": [
    "player1 = h_env.HumanOpponent(env=env, player=1)\n",
    "player2 = h_env.BasicOpponent()\n"
   ]
  },
  {
   "cell_type": "code",
   "execution_count": null,
   "metadata": {
    "ExecuteTime": {
     "end_time": "2020-12-21T21:41:58.586380Z",
     "start_time": "2020-12-21T21:41:58.580405Z"
    }
   },
   "outputs": [],
   "source": [
    "player1 = h_env.BasicOpponent()\n",
    "player2 = h_env.HumanOpponent(env=env, player=2)\n"
   ]
  },
  {
   "cell_type": "code",
   "execution_count": null,
   "metadata": {
    "ExecuteTime": {
     "end_time": "2020-12-21T21:47:04.759309Z",
     "start_time": "2020-12-21T21:46:32.086840Z"
    },
    "scrolled": false
   },
   "outputs": [],
   "source": [
    "obs, info = env.reset()\n",
    "\n",
    "env.render()\n",
    "time.sleep(1)\n",
    "obs_agent2 = env.obs_agent_two()\n",
    "for _ in range(100):\n",
    "    time.sleep(0.2)\n",
    "    env.render()\n",
    "    a1 = player1.act(obs) \n",
    "    a2 = player2.act(obs_agent2)\n",
    "    obs, r, d, _, info = env.step(np.hstack([a1,a2]))    \n",
    "    obs_agent2 = env.obs_agent_two()\n",
    "    if d: break"
   ]
  },
  {
   "cell_type": "code",
   "execution_count": null,
   "metadata": {
    "ExecuteTime": {
     "end_time": "2020-12-21T21:47:08.152651Z",
     "start_time": "2020-12-21T21:47:08.139597Z"
    }
   },
   "outputs": [],
   "source": [
    "env.close()"
   ]
  },
  {
   "cell_type": "code",
   "execution_count": null,
   "metadata": {},
   "outputs": [],
   "source": []
  },
  {
   "cell_type": "markdown",
   "metadata": {
    "ExecuteTime": {
     "end_time": "2018-12-20T20:37:41.013424Z",
     "start_time": "2018-12-20T20:37:41.009298Z"
    }
   },
   "source": [
    "# Check side consistency"
   ]
  },
  {
   "cell_type": "code",
   "execution_count": null,
   "metadata": {
    "ExecuteTime": {
     "end_time": "2023-08-06T09:55:05.915380Z",
     "start_time": "2023-08-06T09:55:05.907736Z"
    }
   },
   "outputs": [],
   "source": [
    "env = h_env.HockeyEnv()"
   ]
  },
  {
   "cell_type": "code",
   "execution_count": null,
   "metadata": {
    "ExecuteTime": {
     "end_time": "2023-08-06T10:25:13.354179Z",
     "start_time": "2023-08-06T10:25:13.294925Z"
    }
   },
   "outputs": [],
   "source": [
    "o, info = env.reset()\n",
    "_ = env.render()\n",
    "player1 = h_env.BasicOpponent(weak=False)\n",
    "player2 = h_env.BasicOpponent(weak=False)"
   ]
  },
  {
   "cell_type": "code",
   "execution_count": null,
   "metadata": {
    "ExecuteTime": {
     "end_time": "2023-08-06T10:34:30.725239Z",
     "start_time": "2023-08-06T10:33:37.389331Z"
    }
   },
   "outputs": [],
   "source": [
    "obs_buffer = []\n",
    "reward_buffer=[]\n",
    "obs2_buffer = []\n",
    "winner_buffer = []\n",
    "reward2_buffer=[]\n",
    "for game in range(1000):\n",
    "    obs, info = env.reset()\n",
    "    obs_agent2 = env.obs_agent_two()\n",
    "    for _ in range(500):\n",
    "        # env.render()\n",
    "        a1 = player1.act(obs)\n",
    "        a2 = player2.act(obs_agent2)\n",
    "#        a1 = np.random.uniform(-1,1,4)\n",
    "#        a2 = np.random.uniform(-1,1,4)    \n",
    "        obs, r, d, t, info = env.step(np.hstack([a1,a2]))\n",
    "        info2 = env.get_info_agent_two()\n",
    "        r2 = env.get_reward_agent_two(info2)\n",
    "        obs_buffer.append(obs)\n",
    "        obs_agent2 = env.obs_agent_two()\n",
    "        obs2_buffer.append(obs_agent2)\n",
    "        reward_buffer.append(r)\n",
    "        reward2_buffer.append(r2)\n",
    "        if d or t:\n",
    "            winner_buffer.append(info[\"winner\"])\n",
    "            break\n",
    "obs_buffer = np.asarray(obs_buffer)\n",
    "reward_buffer = np.asarray(reward_buffer)\n",
    "obs2_buffer = np.asarray(obs2_buffer)\n",
    "reward2_buffer = np.asarray(reward2_buffer)"
   ]
  },
  {
   "cell_type": "code",
   "execution_count": null,
   "metadata": {
    "ExecuteTime": {
     "end_time": "2023-08-06T10:34:30.732010Z",
     "start_time": "2023-08-06T10:34:30.728070Z"
    }
   },
   "outputs": [],
   "source": [
    "obs_buffer.shape"
   ]
  },
  {
   "cell_type": "code",
   "execution_count": null,
   "metadata": {
    "ExecuteTime": {
     "end_time": "2023-08-06T10:34:30.746663Z",
     "start_time": "2023-08-06T10:34:30.733445Z"
    }
   },
   "outputs": [],
   "source": [
    "np.mean(obs_buffer,axis=0)"
   ]
  },
  {
   "cell_type": "code",
   "execution_count": null,
   "metadata": {
    "ExecuteTime": {
     "end_time": "2023-08-06T10:34:30.809201Z",
     "start_time": "2023-08-06T10:34:30.749382Z"
    }
   },
   "outputs": [],
   "source": [
    "(np.std(obs_buffer,axis=0) - np.std(obs2_buffer,axis=0)) / np.std(obs_buffer,axis=0)"
   ]
  },
  {
   "cell_type": "code",
   "execution_count": null,
   "metadata": {
    "ExecuteTime": {
     "end_time": "2023-08-06T10:34:30.821211Z",
     "start_time": "2023-08-06T10:34:30.810592Z"
    }
   },
   "outputs": [],
   "source": [
    "winner_buffer"
   ]
  },
  {
   "cell_type": "code",
   "execution_count": null,
   "metadata": {
    "ExecuteTime": {
     "end_time": "2023-08-06T10:34:30.828943Z",
     "start_time": "2023-08-06T10:34:30.823232Z"
    }
   },
   "outputs": [],
   "source": [
    "np.mean(winner_buffer,axis=0)"
   ]
  },
  {
   "cell_type": "code",
   "execution_count": null,
   "metadata": {
    "ExecuteTime": {
     "end_time": "2023-08-06T10:34:30.834702Z",
     "start_time": "2023-08-06T10:34:30.830383Z"
    }
   },
   "outputs": [],
   "source": [
    "np.std(winner_buffer,axis=0)"
   ]
  },
  {
   "cell_type": "code",
   "execution_count": null,
   "metadata": {
    "ExecuteTime": {
     "end_time": "2023-08-06T10:34:44.699821Z",
     "start_time": "2023-08-06T10:34:44.692772Z"
    }
   },
   "outputs": [],
   "source": [
    "np.sum(reward_buffer), np.sum(reward2_buffer)"
   ]
  },
  {
   "cell_type": "code",
   "execution_count": null,
   "metadata": {
    "ExecuteTime": {
     "end_time": "2023-08-06T10:35:19.971723Z",
     "start_time": "2023-08-06T10:35:19.929115Z"
    }
   },
   "outputs": [],
   "source": [
    "env.close()"
   ]
  },
  {
   "cell_type": "code",
   "execution_count": null,
   "metadata": {},
   "outputs": [],
   "source": []
  }
 ],
 "metadata": {
  "kernelspec": {
   "name": "python3",
   "language": "python",
   "display_name": "Python 3 (ipykernel)"
  },
  "language_info": {
   "codemirror_mode": {
    "name": "ipython",
    "version": 3
   },
   "file_extension": ".py",
   "mimetype": "text/x-python",
   "name": "python",
   "nbconvert_exporter": "python",
   "pygments_lexer": "ipython3",
   "version": "3.12.3"
  },
  "toc": {
   "base_numbering": 1,
   "nav_menu": {},
   "number_sections": true,
   "sideBar": true,
   "skip_h1_title": false,
   "title_cell": "Table of Contents",
   "title_sidebar": "Contents",
   "toc_cell": false,
   "toc_position": {},
   "toc_section_display": true,
   "toc_window_display": false
  }
 },
 "nbformat": 4,
 "nbformat_minor": 2
}
